{
 "cells": [
  {
   "cell_type": "code",
   "execution_count": 2,
   "metadata": {},
   "outputs": [
    {
     "name": "stdout",
     "output_type": "stream",
     "text": [
      "1000000.0\n",
      "11110100001001000000\n",
      "20\n"
     ]
    }
   ],
   "source": [
    "tc = 1/(50*10**6)\n",
    "T = 20*10**-3\n",
    "cT = T / tc\n",
    "print(cT)\n",
    "cT_2 = bin(round(cT))[2:]\n",
    "print(cT_2)\n",
    "print(len(str(cT_2)))"
   ]
  },
  {
   "cell_type": "code",
   "execution_count": 3,
   "metadata": {},
   "outputs": [
    {
     "name": "stdout",
     "output_type": "stream",
     "text": [
      "85500.0\n",
      "10100110111111100\n",
      "17\n"
     ]
    }
   ],
   "source": [
    "t0 = 1.71*10**-3\n",
    "ct0 = t0 / tc\n",
    "print(ct0)\n",
    "ct0_2 = bin(round(ct0))[2:]\n",
    "print(ct0_2)\n",
    "print(len(str(ct0_2)))"
   ]
  },
  {
   "cell_type": "code",
   "execution_count": 4,
   "metadata": {},
   "outputs": [
    {
     "name": "stdout",
     "output_type": "stream",
     "text": [
      "127000.0\n",
      "11111000000011000\n",
      "17\n"
     ]
    }
   ],
   "source": [
    "t90 = 2.54*10**-3\n",
    "ct90 = t90 / tc\n",
    "print(ct90)\n",
    "ct90_2 = bin(round(ct90))[2:]\n",
    "print(ct90_2)\n",
    "print(len(str(ct90_2)))"
   ]
  },
  {
   "cell_type": "code",
   "execution_count": 5,
   "metadata": {},
   "outputs": [
    {
     "name": "stdout",
     "output_type": "stream",
     "text": [
      "44000.0\n",
      "1010101111100000\n",
      "16\n"
     ]
    }
   ],
   "source": [
    "tm90 = 0.88*10**-3\n",
    "ctm90 = tm90 / tc\n",
    "print(ctm90)\n",
    "ctm90_2 = bin(round(ctm90))[2:]\n",
    "print(ctm90_2)\n",
    "print(len(str(ctm90_2)))"
   ]
  },
  {
   "cell_type": "code",
   "execution_count": 3,
   "metadata": {},
   "outputs": [
    {
     "name": "stdout",
     "output_type": "stream",
     "text": [
      "50000000.0\n",
      "10111110101111000010000000\n",
      "26\n"
     ]
    }
   ],
   "source": [
    "tm = 1\n",
    "ctm = tm / tc\n",
    "print(ctm)\n",
    "ctm_2 = bin(round(ctm))[2:]\n",
    "print(ctm_2)\n",
    "print(len(str(ctm_2)))"
   ]
  },
  {
   "cell_type": "code",
   "execution_count": 5,
   "metadata": {},
   "outputs": [
    {
     "name": "stdout",
     "output_type": "stream",
     "text": [
      "127000.0\n",
      "11111000000011000\n",
      "17\n"
     ]
    }
   ],
   "source": [
    "tm = 2.54*10**-3\n",
    "ctm = tm / tc\n",
    "print(ctm)\n",
    "ctm_2 = bin(round(ctm))[2:]\n",
    "print(ctm_2)\n",
    "print(len(str(ctm_2)))"
   ]
  },
  {
   "cell_type": "code",
   "execution_count": 2,
   "metadata": {},
   "outputs": [
    {
     "name": "stdout",
     "output_type": "stream",
     "text": [
      "25000000.0\n",
      "1011111010111100001000000\n",
      "25\n"
     ]
    }
   ],
   "source": [
    "tm = 1/2\n",
    "ctm = tm / tc\n",
    "print(ctm)\n",
    "ctm_2 = bin(round(ctm))[2:]\n",
    "print(ctm_2)\n",
    "print(len(str(ctm_2)))"
   ]
  },
  {
   "cell_type": "code",
   "execution_count": 4,
   "metadata": {},
   "outputs": [
    {
     "name": "stdout",
     "output_type": "stream",
     "text": [
      "10100\n"
     ]
    }
   ],
   "source": [
    "n = 20\n",
    "n_2 = bin(round(n))[2:]\n",
    "print(n_2)"
   ]
  },
  {
   "cell_type": "code",
   "execution_count": 15,
   "metadata": {},
   "outputs": [
    {
     "name": "stdout",
     "output_type": "stream",
     "text": [
      "11010001110011101111000000.\n",
      "27\n"
     ]
    }
   ],
   "source": [
    "def fraccion_decimal_a_binario(numero, precision=8):\n",
    "    parte_entera = int(numero)\n",
    "    parte_fraccionaria = numero - parte_entera\n",
    "\n",
    "    parte_entera_binaria = bin(parte_entera)[2:]\n",
    "\n",
    "    resultado_fraccionario = \".\"\n",
    "    for _ in range(precision):\n",
    "        parte_fraccionaria *= 2\n",
    "        bit = int(parte_fraccionaria)\n",
    "        if bit == 1:\n",
    "            parte_fraccionaria -= 1\n",
    "        resultado_fraccionario += str(bit)\n",
    "\n",
    "    return parte_entera_binaria + resultado_fraccionario\n",
    "\n",
    "# Ejemplo de uso:\n",
    "decimal = 55000000\n",
    "precision_bits =0\n",
    "binario = fraccion_decimal_a_binario(decimal, precision_bits)\n",
    "print(binario)\n",
    "print(len(binario))\n"
   ]
  },
  {
   "cell_type": "code",
   "execution_count": 3,
   "metadata": {},
   "outputs": [
    {
     "name": "stdout",
     "output_type": "stream",
     "text": [
      "113636.36363636363\n",
      "11011101111100100\n",
      "17\n"
     ]
    }
   ],
   "source": [
    "tm = (1/440)\n",
    "ctm = tm / tc\n",
    "print(ctm)\n",
    "ctm_2 = bin(round(ctm))[2:]\n",
    "print(ctm_2)\n",
    "print(len(str(ctm_2)))"
   ]
  },
  {
   "cell_type": "code",
   "execution_count": 4,
   "metadata": {},
   "outputs": [
    {
     "name": "stdout",
     "output_type": "stream",
     "text": [
      "56818.181818181816\n",
      "1101110111110010\n",
      "16\n"
     ]
    }
   ],
   "source": [
    "tm = (1/440)/2\n",
    "ctm = tm / tc\n",
    "print(ctm)\n",
    "ctm_2 = bin(round(ctm))[2:]\n",
    "print(ctm_2)\n",
    "print(len(str(ctm_2)))"
   ]
  },
  {
   "cell_type": "code",
   "execution_count": 5,
   "metadata": {},
   "outputs": [
    {
     "name": "stdout",
     "output_type": "stream",
     "text": [
      "101214.57489878543\n",
      "11000101101011111\n",
      "17\n"
     ]
    }
   ],
   "source": [
    "tm = (1/494)\n",
    "ctm = tm / tc\n",
    "print(ctm)\n",
    "ctm_2 = bin(round(ctm))[2:]\n",
    "print(ctm_2)\n",
    "print(len(str(ctm_2)))"
   ]
  },
  {
   "cell_type": "code",
   "execution_count": 6,
   "metadata": {},
   "outputs": [
    {
     "name": "stdout",
     "output_type": "stream",
     "text": [
      "50607.287449392716\n",
      "1100010110101111\n",
      "16\n"
     ]
    }
   ],
   "source": [
    "tm = (1/494)/2\n",
    "ctm = tm / tc\n",
    "print(ctm)\n",
    "ctm_2 = bin(round(ctm))[2:]\n",
    "print(ctm_2)\n",
    "print(len(str(ctm_2)))"
   ]
  },
  {
   "cell_type": "code",
   "execution_count": 7,
   "metadata": {},
   "outputs": [
    {
     "data": {
      "text/plain": [
       "-2.8867513459481287"
      ]
     },
     "execution_count": 7,
     "metadata": {},
     "output_type": "execute_result"
    }
   ],
   "source": [
    "(19.5-20)/((0.6/12**0.5))"
   ]
  },
  {
   "cell_type": "code",
   "execution_count": null,
   "metadata": {},
   "outputs": [],
   "source": []
  }
 ],
 "metadata": {
  "kernelspec": {
   "display_name": "Python 3",
   "language": "python",
   "name": "python3"
  },
  "language_info": {
   "codemirror_mode": {
    "name": "ipython",
    "version": 3
   },
   "file_extension": ".py",
   "mimetype": "text/x-python",
   "name": "python",
   "nbconvert_exporter": "python",
   "pygments_lexer": "ipython3",
   "version": "3.10.12"
  }
 },
 "nbformat": 4,
 "nbformat_minor": 2
}
